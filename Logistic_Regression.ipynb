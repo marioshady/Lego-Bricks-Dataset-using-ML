{
  "nbformat": 4,
  "nbformat_minor": 0,
  "metadata": {
    "colab": {
      "name": " Logistic Regression.ipynb",
      "provenance": []
    },
    "kernelspec": {
      "name": "python3",
      "display_name": "Python 3"
    },
    "language_info": {
      "name": "python"
    }
  },
  "cells": [
    {
      "cell_type": "code",
      "execution_count": 3,
      "metadata": {
        "colab": {
          "base_uri": "https://localhost:8080/"
        },
        "id": "WYRhSh4gQweu",
        "outputId": "55a0679b-0580-4272-9f9e-8e0347f3280c"
      },
      "outputs": [
        {
          "output_type": "stream",
          "name": "stdout",
          "text": [
            "Drive already mounted at /content/gdrive; to attempt to forcibly remount, call drive.mount(\"/content/gdrive\", force_remount=True).\n"
          ]
        }
      ],
      "source": [
        "import numpy as np\n",
        "import os\n",
        "import cv2\n",
        "import tensorflow \n",
        "import keras  \n",
        "import glob \n",
        "import keras  \n",
        "from sklearn.model_selection import train_test_split\n",
        "from sklearn.metrics import accuracy_score\n",
        "from sklearn.metrics import confusion_matrix\n",
        "from skimage import io \n",
        "import random \n",
        "from sklearn.metrics import classification_report, confusion_matrix  \n",
        "\n",
        "import matplotlib.pyplot as plt  \n",
        "%matplotlib inline\n",
        "import pandas as pd\n",
        "from google.colab import drive\n",
        "\n",
        "drive.mount('/content/gdrive')\n"
      ]
    },
    {
      "cell_type": "code",
      "source": [
        "DATADIR = '/content/gdrive/MyDrive/archive/lego/'\n",
        "\n",
        "# DATADIR = 'drive/My Drive/archive/lego'\n",
        "CATEGORIES =[\"2357 Brick corner 1x2x2\" , \"3003 Brick 2x2\" , \"3004 Brick 1x2\" , \"3005 Brick 1x1\" , \"3022 Plate 2x2\" , \"3023 Plate 1x2\" , \"3024 Plate 1x1\" , \"3040 Roof Tile 1x2x45deg\" , \"3069 Flat Tile 1x2\" , \"3673 Peg 2M\" , \"3713 Bush for Cross Axle\" , \"3794 Plate 1X2 with 1 Knob\" , \"6632 Technic Lever 3M\" , \"11214 Bush 3M friction with Cross axle\" , \"18651 Cross Axle 2M with Snap friction\" , \"32123 half Bush\"]\n",
        "\n",
        "flat_data_arr=[] #input array\n",
        "target_arr=[] #output array\n",
        "\n",
        "for category in CATEGORIES:  # do dogs and cats\n",
        "    path = os.path.join(DATADIR,category)   # create path to each class\n",
        "    for img in os.listdir(path):    # iterate over each image per class\n",
        "      try:\n",
        "        img_array=cv2.imread(os.path.join(path,img) ,cv2.IMREAD_GRAYSCALE)  # convert to array\n",
        "        IMG_SIZE = 50\n",
        "        img_resized = cv2.resize(img_array, (IMG_SIZE, IMG_SIZE))   # resize to normalize data size\n",
        "        flat_data_arr.append(img_resized.flatten())\n",
        "        target_arr.append(CATEGORIES.index(category))   # get the classification  (0 or a 1). 0=dog 1=cat\n",
        "      except Exception as e:  # in the interest in keeping the output clean...\n",
        "                pass\n",
        "    print(f'loaded category:{category} successfully')\n",
        "flat_data=np.array(flat_data_arr)\n",
        "target=np.array(target_arr)\n",
        "df=pd.DataFrame(flat_data) #dataframe\n",
        "df['Target']=target\n",
        "\n",
        "x=df.iloc[:,:-1] #input data(features)  independent values\n",
        "y=df.iloc[:,-1] #output data(labels)  dependent values"
      ],
      "metadata": {
        "colab": {
          "base_uri": "https://localhost:8080/"
        },
        "id": "kgrxqGleQ0li",
        "outputId": "ae427c88-fe6d-419f-cee5-c861a808eec9"
      },
      "execution_count": 4,
      "outputs": [
        {
          "output_type": "stream",
          "name": "stdout",
          "text": [
            "loaded category:2357 Brick corner 1x2x2 successfully\n",
            "loaded category:3003 Brick 2x2 successfully\n",
            "loaded category:3004 Brick 1x2 successfully\n",
            "loaded category:3005 Brick 1x1 successfully\n",
            "loaded category:3022 Plate 2x2 successfully\n",
            "loaded category:3023 Plate 1x2 successfully\n",
            "loaded category:3024 Plate 1x1 successfully\n",
            "loaded category:3040 Roof Tile 1x2x45deg successfully\n",
            "loaded category:3069 Flat Tile 1x2 successfully\n",
            "loaded category:3673 Peg 2M successfully\n",
            "loaded category:3713 Bush for Cross Axle successfully\n",
            "loaded category:3794 Plate 1X2 with 1 Knob successfully\n",
            "loaded category:6632 Technic Lever 3M successfully\n",
            "loaded category:11214 Bush 3M friction with Cross axle successfully\n",
            "loaded category:18651 Cross Axle 2M with Snap friction successfully\n",
            "loaded category:32123 half Bush successfully\n"
          ]
        }
      ]
    },
    {
      "cell_type": "code",
      "source": [
        "from sklearn import linear_model\n",
        "model = linear_model.LogisticRegression(max_iter=78)\n",
        "x_train,x_test,y_train,y_test=train_test_split(x,y,test_size=0.20,random_state=77,stratify=y)  #feature , labels \n",
        "print('Splitted Successfully')\n",
        "model.fit(x_train,y_train)\n",
        "print('The Model is trained well with the given images')\n",
        "# model.best_params_ contains the best parameters obtained from GridSearchCV"
      ],
      "metadata": {
        "colab": {
          "base_uri": "https://localhost:8080/"
        },
        "id": "R8fKTBxJQ_Mq",
        "outputId": "0818bfcc-3bb7-47be-c4be-01734f1f5344"
      },
      "execution_count": 45,
      "outputs": [
        {
          "output_type": "stream",
          "name": "stdout",
          "text": [
            "Splitted Successfully\n",
            "The Model is trained well with the given images\n"
          ]
        },
        {
          "output_type": "stream",
          "name": "stderr",
          "text": [
            "/usr/local/lib/python3.7/dist-packages/sklearn/linear_model/_logistic.py:818: ConvergenceWarning: lbfgs failed to converge (status=1):\n",
            "STOP: TOTAL NO. of ITERATIONS REACHED LIMIT.\n",
            "\n",
            "Increase the number of iterations (max_iter) or scale the data as shown in:\n",
            "    https://scikit-learn.org/stable/modules/preprocessing.html\n",
            "Please also refer to the documentation for alternative solver options:\n",
            "    https://scikit-learn.org/stable/modules/linear_model.html#logistic-regression\n",
            "  extra_warning_msg=_LOGISTIC_SOLVER_CONVERGENCE_MSG,\n"
          ]
        }
      ]
    },
    {
      "cell_type": "code",
      "source": [
        "model.fit(x_train,y_train)"
      ],
      "metadata": {
        "colab": {
          "base_uri": "https://localhost:8080/"
        },
        "id": "qVt4N7uHRG9M",
        "outputId": "47e81fa1-9f12-42dc-f35b-e8169d4d854d"
      },
      "execution_count": 46,
      "outputs": [
        {
          "output_type": "stream",
          "name": "stderr",
          "text": [
            "/usr/local/lib/python3.7/dist-packages/sklearn/linear_model/_logistic.py:818: ConvergenceWarning: lbfgs failed to converge (status=1):\n",
            "STOP: TOTAL NO. of ITERATIONS REACHED LIMIT.\n",
            "\n",
            "Increase the number of iterations (max_iter) or scale the data as shown in:\n",
            "    https://scikit-learn.org/stable/modules/preprocessing.html\n",
            "Please also refer to the documentation for alternative solver options:\n",
            "    https://scikit-learn.org/stable/modules/linear_model.html#logistic-regression\n",
            "  extra_warning_msg=_LOGISTIC_SOLVER_CONVERGENCE_MSG,\n"
          ]
        },
        {
          "output_type": "execute_result",
          "data": {
            "text/plain": [
              "LogisticRegression(max_iter=78)"
            ]
          },
          "metadata": {},
          "execution_count": 46
        }
      ]
    },
    {
      "cell_type": "code",
      "source": [
        "from sklearn.metrics import accuracy_score\n",
        "\n",
        "y_pred=model.predict(x_test)\n",
        "print(\"The predicted Data is :\")\n",
        "print(y_pred)\n",
        "print(\"The actual data is:\")\n",
        "print(np.array(y_test))\n",
        "print(f\"The model is {accuracy_score(y_pred,y_test)*100}% accurate\")"
      ],
      "metadata": {
        "colab": {
          "base_uri": "https://localhost:8080/"
        },
        "id": "lycWGmTcRg1s",
        "outputId": "bee615e6-f940-4269-9341-eb6a669f6138"
      },
      "execution_count": 47,
      "outputs": [
        {
          "output_type": "stream",
          "name": "stdout",
          "text": [
            "The predicted Data is :\n",
            "[0 7 5 ... 2 7 1]\n",
            "The actual data is:\n",
            "[ 0  7 11 ...  8  7  1]\n",
            "The model is 84.48275862068965% accurate\n"
          ]
        }
      ]
    },
    {
      "cell_type": "code",
      "source": [
        "print(classification_report(y_test , y_pred))"
      ],
      "metadata": {
        "colab": {
          "base_uri": "https://localhost:8080/"
        },
        "id": "MjDc6Jr8j7vN",
        "outputId": "5d4e3da2-62d1-4ab5-9d38-715742de4544"
      },
      "execution_count": 48,
      "outputs": [
        {
          "output_type": "stream",
          "name": "stdout",
          "text": [
            "              precision    recall  f1-score   support\n",
            "\n",
            "           0       0.98      0.84      0.91        76\n",
            "           1       1.00      1.00      1.00        80\n",
            "           2       0.88      0.95      0.92        80\n",
            "           3       1.00      1.00      1.00        80\n",
            "           4       0.86      0.85      0.86        80\n",
            "           5       0.45      0.42      0.44        80\n",
            "           6       0.93      0.96      0.94        80\n",
            "           7       0.91      0.97      0.94        80\n",
            "           8       0.74      0.70      0.72        80\n",
            "           9       0.84      0.95      0.89        80\n",
            "          10       1.00      1.00      1.00        80\n",
            "          11       0.50      0.51      0.51        80\n",
            "          12       0.99      0.88      0.93        80\n",
            "          13       0.79      0.72      0.76        80\n",
            "          14       0.67      0.78      0.72        80\n",
            "          15       1.00      0.97      0.99        80\n",
            "\n",
            "    accuracy                           0.84      1276\n",
            "   macro avg       0.85      0.84      0.84      1276\n",
            "weighted avg       0.85      0.84      0.84      1276\n",
            "\n"
          ]
        }
      ]
    },
    {
      "cell_type": "code",
      "source": [
        "import seaborn as sn\n",
        "from sklearn.metrics import confusion_matrix\n",
        "cm = confusion_matrix(y_test , y_pred);\n",
        "plt.figure(figsize = (10,7))\n",
        "sn.heatmap(cm, annot=True)\n",
        "plt.xlabel('Predicted Value')\n",
        "plt.ylabel('Truth or Actual Value')"
      ],
      "metadata": {
        "colab": {
          "base_uri": "https://localhost:8080/",
          "height": 463
        },
        "id": "1L7mFG2tRjgU",
        "outputId": "ff7c1212-d9d5-44ec-9d44-007d6cb7b238"
      },
      "execution_count": 50,
      "outputs": [
        {
          "output_type": "execute_result",
          "data": {
            "text/plain": [
              "Text(69.0, 0.5, 'Truth or Actual Value')"
            ]
          },
          "metadata": {},
          "execution_count": 50
        },
        {
          "output_type": "display_data",
          "data": {
            "text/plain": [
              "<Figure size 720x504 with 2 Axes>"
            ],
            "image/png": "[encoded data removed]"
          },
          "metadata": {
            "needs_background": "light"
          }
        }
      ]
    }
  ]
}