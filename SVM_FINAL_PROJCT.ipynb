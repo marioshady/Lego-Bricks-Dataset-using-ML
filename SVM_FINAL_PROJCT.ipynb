{
  "nbformat": 4,
  "nbformat_minor": 0,
  "metadata": {
    "colab": {
      "name": "SVM FINAL PROJCT.ipynb",
      "provenance": []
    },
    "kernelspec": {
      "name": "python3",
      "display_name": "Python 3"
    },
    "language_info": {
      "name": "python"
    }
  },
  "cells": [
    {
      "cell_type": "code",
      "execution_count": null,
      "metadata": {
        "colab": {
          "base_uri": "https://localhost:8080/"
        },
        "id": "7ok_c5FI9axv",
        "outputId": "1fd7802c-c665-40b7-ca05-5e94558f65e2"
      },
      "outputs": [
        {
          "output_type": "stream",
          "name": "stdout",
          "text": [
            "Mounted at /content/gdrive\n"
          ]
        }
      ],
      "source": [
        ".import numpy as np\n",
        "import os\n",
        "import cv2\n",
        "import tensorflow \n",
        "import keras  \n",
        "import glob \n",
        "import keras  \n",
        "from sklearn.model_selection import train_test_split\n",
        "from sklearn.metrics import accuracy_score\n",
        "from sklearn.metrics import confusion_matrix\n",
        "from skimage import io \n",
        "import random \n",
        "from sklearn.metrics import classification_report, confusion_matrix  \n",
        "\n",
        "import matplotlib.pyplot as plt  \n",
        "%matplotlib inline\n",
        "import pandas as pd\n",
        "from google.colab import drive\n",
        "\n",
        "drive.mount('/content/gdrive')"
      ]
    },
    {
      "cell_type": "code",
      "source": [
        "DATADIR = '/content/gdrive/MyDrive/archive/lego/'\n",
        "\n",
        "# DATADIR = 'drive/My Drive/archive/lego'\n",
        "CATEGORIES =[\"2357 Brick corner 1x2x2\" , \"3003 Brick 2x2\" , \"3004 Brick 1x2\" , \"3005 Brick 1x1\" , \"3022 Plate 2x2\" , \"3023 Plate 1x2\" , \"3024 Plate 1x1\" , \"3040 Roof Tile 1x2x45deg\" , \"3069 Flat Tile 1x2\" , \"3673 Peg 2M\" , \"3713 Bush for Cross Axle\" , \"3794 Plate 1X2 with 1 Knob\" , \"6632 Technic Lever 3M\" , \"11214 Bush 3M friction with Cross axle\" , \"18651 Cross Axle 2M with Snap friction\" , \"32123 half Bush\"]\n",
        "\n",
        "flat_data_arr=[] #input array\n",
        "target_arr=[] #output array\n",
        "\n",
        "for category in CATEGORIES:  # do dogs and cats\n",
        "    path = os.path.join(DATADIR,category)   # create path to each class\n",
        "    for img in os.listdir(path):    # iterate over each image per class\n",
        "      try:\n",
        "        img_array=cv2.imread(os.path.join(path,img) ,cv2.IMREAD_GRAYSCALE)  # convert to array\n",
        "        IMG_SIZE = 50\n",
        "        img_resized = cv2.resize(img_array, (IMG_SIZE, IMG_SIZE))   # resize to normalize data size\n",
        "        flat_data_arr.append(img_resized.flatten())\n",
        "        target_arr.append(CATEGORIES.index(category))   # get the classification  (0 or a 1). 0=dog 1=cat\n",
        "      except Exception as e:  # in the interest in keeping the output clean...\n",
        "                pass\n",
        "    print(f'loaded category:{category} successfully')\n",
        "flat_data=np.array(flat_data_arr)\n",
        "target=np.array(target_arr)\n",
        "df=pd.DataFrame(flat_data) #dataframe\n",
        "df['Target']=target\n",
        "\n",
        "x=df.iloc[:,:-1] #input data(features)  independent values\n",
        "y=df.iloc[:,-1] #output data(labels)  dependent values"
      ],
      "metadata": {
        "colab": {
          "base_uri": "https://localhost:8080/"
        },
        "id": "quOfwRcR9d74",
        "outputId": "103ca8d6-8fb7-4282-e8cc-7e4fdc617636"
      },
      "execution_count": null,
      "outputs": [
        {
          "output_type": "stream",
          "name": "stdout",
          "text": [
            "loaded category:2357 Brick corner 1x2x2 successfully\n",
            "loaded category:3003 Brick 2x2 successfully\n",
            "loaded category:3004 Brick 1x2 successfully\n",
            "loaded category:3005 Brick 1x1 successfully\n",
            "loaded category:3022 Plate 2x2 successfully\n",
            "loaded category:3023 Plate 1x2 successfully\n",
            "loaded category:3024 Plate 1x1 successfully\n",
            "loaded category:3040 Roof Tile 1x2x45deg successfully\n",
            "loaded category:3069 Flat Tile 1x2 successfully\n",
            "loaded category:3673 Peg 2M successfully\n",
            "loaded category:3713 Bush for Cross Axle successfully\n",
            "loaded category:3794 Plate 1X2 with 1 Knob successfully\n",
            "loaded category:6632 Technic Lever 3M successfully\n",
            "loaded category:11214 Bush 3M friction with Cross axle successfully\n",
            "loaded category:18651 Cross Axle 2M with Snap friction successfully\n",
            "loaded category:32123 half Bush successfully\n"
          ]
        }
      ]
    },
    {
      "cell_type": "code",
      "source": [
        "x_train,x_test,y_train,y_test=train_test_split(x,y,test_size=0.20,random_state=77,stratify=y)  #feature , labels \n",
        "print('Splitted Successfully')\n"
      ],
      "metadata": {
        "colab": {
          "base_uri": "https://localhost:8080/"
        },
        "id": "IBmIyyet99aL",
        "outputId": "343c1954-460f-4a86-e7dc-1a09840301e8"
      },
      "execution_count": null,
      "outputs": [
        {
          "output_type": "stream",
          "name": "stdout",
          "text": [
            "Splitted Successfully\n"
          ]
        }
      ]
    },
    {
      "cell_type": "code",
      "source": [
        "from sklearn.svm import SVC  \n",
        "\n",
        "kernels = ['Polynomial', 'RBF', 'Sigmoid','Linear']#A function which returns the corresponding SVC model\n",
        "def getClassifier(ktype):\n",
        "    if ktype == 0:\n",
        "        # Polynomial kernal\n",
        "        return SVC(kernel='poly', degree=8, gamma=\"auto\")\n",
        "    elif ktype == 1:\n",
        "        # Radial Basis Function kernal\n",
        "        return SVC(kernel='rbf', gamma=\"auto\")\n",
        "    elif ktype == 2:\n",
        "        # Sigmoid kernal\n",
        "        return SVC(kernel='sigmoid', gamma=\"auto\")\n",
        "    elif ktype == 3:\n",
        "        # Linear kernal\n",
        "        return SVC(kernel='linear', gamma=\"auto\")"
      ],
      "metadata": {
        "id": "_ypSD4Qt-Sxz"
      },
      "execution_count": null,
      "outputs": []
    },
    {
      "cell_type": "code",
      "source": [
        "for i in range(4):\n",
        "    # Separate data into test and training sets\n",
        "    X_train, X_test, y_train, y_test = train_test_split(x, y, test_size = 0.20)# Train a SVC model using different kernal\n",
        "    svclassifier = getClassifier(i) \n",
        "    svclassifier.fit(X_train, y_train)# Make prediction\n",
        "    y_pred = svclassifier.predict(X_test)# Evaluate our model\n",
        "    print(\"Evaluation:\", kernels[i], \"kernel\")\n",
        "    print(classification_report(y_test,y_pred))"
      ],
      "metadata": {
        "colab": {
          "base_uri": "https://localhost:8080/"
        },
        "id": "k3GGB5nF-TwY",
        "outputId": "dec7d28e-dcaa-4b64-9778-eac94dac1d3c"
      },
      "execution_count": null,
      "outputs": [
        {
          "output_type": "stream",
          "name": "stdout",
          "text": [
            "Evaluation: Polynomial kernel\n",
            "              precision    recall  f1-score   support\n",
            "\n",
            "           0       0.95      1.00      0.97        73\n",
            "           1       1.00      1.00      1.00        87\n",
            "           2       0.97      0.98      0.97        86\n",
            "           3       1.00      1.00      1.00        86\n",
            "           4       1.00      0.90      0.95        88\n",
            "           5       0.84      0.83      0.84        78\n",
            "           6       0.98      1.00      0.99        82\n",
            "           7       0.99      1.00      0.99        83\n",
            "           8       0.98      0.88      0.93        74\n",
            "           9       0.85      0.96      0.90        92\n",
            "          10       1.00      1.00      1.00        70\n",
            "          11       0.79      0.88      0.83        72\n",
            "          12       1.00      0.95      0.97        82\n",
            "          13       0.98      0.74      0.84        65\n",
            "          14       0.75      0.85      0.79        73\n",
            "          15       1.00      1.00      1.00        85\n",
            "\n",
            "    accuracy                           0.94      1276\n",
            "   macro avg       0.94      0.93      0.94      1276\n",
            "weighted avg       0.94      0.94      0.94      1276\n",
            "\n",
            "Evaluation: RBF kernel\n",
            "              precision    recall  f1-score   support\n",
            "\n",
            "           0       0.00      0.00      0.00        81\n",
            "           1       0.00      0.00      0.00        82\n",
            "           2       0.00      0.00      0.00        83\n",
            "           3       0.05      1.00      0.10        66\n",
            "           4       0.00      0.00      0.00        74\n",
            "           5       0.00      0.00      0.00        92\n",
            "           6       0.00      0.00      0.00        77\n",
            "           7       0.00      0.00      0.00        74\n",
            "           8       0.00      0.00      0.00        82\n",
            "           9       1.00      0.01      0.02        82\n",
            "          10       1.00      0.01      0.02        86\n",
            "          11       0.00      0.00      0.00        74\n",
            "          12       0.00      0.00      0.00        92\n",
            "          13       0.00      0.00      0.00        68\n",
            "          14       0.00      0.00      0.00        80\n",
            "          15       1.00      0.05      0.09        83\n",
            "\n",
            "    accuracy                           0.06      1276\n",
            "   macro avg       0.19      0.07      0.01      1276\n",
            "weighted avg       0.20      0.06      0.01      1276\n",
            "\n"
          ]
        },
        {
          "output_type": "stream",
          "name": "stderr",
          "text": [
            "/usr/local/lib/python3.7/dist-packages/sklearn/metrics/_classification.py:1318: UndefinedMetricWarning: Precision and F-score are ill-defined and being set to 0.0 in labels with no predicted samples. Use `zero_division` parameter to control this behavior.\n",
            "  _warn_prf(average, modifier, msg_start, len(result))\n",
            "/usr/local/lib/python3.7/dist-packages/sklearn/metrics/_classification.py:1318: UndefinedMetricWarning: Precision and F-score are ill-defined and being set to 0.0 in labels with no predicted samples. Use `zero_division` parameter to control this behavior.\n",
            "  _warn_prf(average, modifier, msg_start, len(result))\n",
            "/usr/local/lib/python3.7/dist-packages/sklearn/metrics/_classification.py:1318: UndefinedMetricWarning: Precision and F-score are ill-defined and being set to 0.0 in labels with no predicted samples. Use `zero_division` parameter to control this behavior.\n",
            "  _warn_prf(average, modifier, msg_start, len(result))\n"
          ]
        },
        {
          "output_type": "stream",
          "name": "stdout",
          "text": [
            "Evaluation: Sigmoid kernel\n",
            "              precision    recall  f1-score   support\n",
            "\n",
            "           0       0.00      0.00      0.00        76\n",
            "           1       0.00      0.00      0.00        67\n",
            "           2       0.00      0.00      0.00        90\n",
            "           3       0.00      0.00      0.00        83\n",
            "           4       0.00      0.00      0.00        85\n",
            "           5       0.00      0.00      0.00        70\n",
            "           6       0.00      0.00      0.00        88\n",
            "           7       0.00      0.00      0.00        96\n",
            "           8       0.00      0.00      0.00        84\n",
            "           9       0.05      1.00      0.09        62\n",
            "          10       0.00      0.00      0.00        73\n",
            "          11       0.00      0.00      0.00        81\n",
            "          12       0.00      0.00      0.00        82\n",
            "          13       0.00      0.00      0.00        79\n",
            "          14       0.00      0.00      0.00        84\n",
            "          15       0.00      0.00      0.00        76\n",
            "\n",
            "    accuracy                           0.05      1276\n",
            "   macro avg       0.00      0.06      0.01      1276\n",
            "weighted avg       0.00      0.05      0.00      1276\n",
            "\n"
          ]
        },
        {
          "output_type": "stream",
          "name": "stderr",
          "text": [
            "/usr/local/lib/python3.7/dist-packages/sklearn/metrics/_classification.py:1318: UndefinedMetricWarning: Precision and F-score are ill-defined and being set to 0.0 in labels with no predicted samples. Use `zero_division` parameter to control this behavior.\n",
            "  _warn_prf(average, modifier, msg_start, len(result))\n",
            "/usr/local/lib/python3.7/dist-packages/sklearn/metrics/_classification.py:1318: UndefinedMetricWarning: Precision and F-score are ill-defined and being set to 0.0 in labels with no predicted samples. Use `zero_division` parameter to control this behavior.\n",
            "  _warn_prf(average, modifier, msg_start, len(result))\n",
            "/usr/local/lib/python3.7/dist-packages/sklearn/metrics/_classification.py:1318: UndefinedMetricWarning: Precision and F-score are ill-defined and being set to 0.0 in labels with no predicted samples. Use `zero_division` parameter to control this behavior.\n",
            "  _warn_prf(average, modifier, msg_start, len(result))\n"
          ]
        },
        {
          "output_type": "stream",
          "name": "stdout",
          "text": [
            "Evaluation: Linear kernel\n",
            "              precision    recall  f1-score   support\n",
            "\n",
            "           0       1.00      1.00      1.00        73\n",
            "           1       1.00      1.00      1.00        71\n",
            "           2       0.97      1.00      0.99        73\n",
            "           3       0.97      1.00      0.99        74\n",
            "           4       1.00      0.95      0.97        80\n",
            "           5       0.42      0.60      0.49        62\n",
            "           6       0.99      1.00      0.99        90\n",
            "           7       1.00      0.97      0.98        94\n",
            "           8       0.93      0.75      0.83        95\n",
            "           9       0.94      0.97      0.96        79\n",
            "          10       1.00      1.00      1.00        85\n",
            "          11       0.64      0.54      0.59        72\n",
            "          12       1.00      0.98      0.99        86\n",
            "          13       0.85      0.76      0.80        75\n",
            "          14       0.74      0.87      0.80        62\n",
            "          15       0.99      1.00      1.00       105\n",
            "\n",
            "    accuracy                           0.91      1276\n",
            "   macro avg       0.90      0.90      0.90      1276\n",
            "weighted avg       0.92      0.91      0.91      1276\n",
            "\n"
          ]
        }
      ]
    },
    {
      "cell_type": "code",
      "source": [
        "from sklearn.model_selection import GridSearchCV\n"
      ],
      "metadata": {
        "id": "GnTPvq2e-ytL"
      },
      "execution_count": null,
      "outputs": []
    },
    {
      "cell_type": "code",
      "source": [
        "param_grid = {'C': [0.1,1, 10, 100], 'gamma': [1,0.1,0.01,0.001],'kernel': ['rbf', 'poly', 'sigmoid']}\n"
      ],
      "metadata": {
        "id": "auhDFCwj-2aR"
      },
      "execution_count": null,
      "outputs": []
    },
    {
      "cell_type": "code",
      "source": [
        "grid = GridSearchCV(SVC(),param_grid,refit=True,verbose=2)\n",
        "grid.fit(X_train,y_train)"
      ],
      "metadata": {
        "colab": {
          "base_uri": "https://localhost:8080/"
        },
        "id": "9zcL-M-R-3WR",
        "outputId": "5486a57e-446e-42eb-af44-34553a67fc65"
      },
      "execution_count": null,
      "outputs": [
        {
          "output_type": "stream",
          "name": "stdout",
          "text": [
            "Fitting 5 folds for each of 48 candidates, totalling 240 fits\n",
            "[CV] END .........................C=0.1, gamma=1, kernel=rbf; total time=  46.8s\n",
            "[CV] END .........................C=0.1, gamma=1, kernel=rbf; total time=  46.3s\n",
            "[CV] END .........................C=0.1, gamma=1, kernel=rbf; total time=  46.7s\n",
            "[CV] END .........................C=0.1, gamma=1, kernel=rbf; total time=  45.9s\n",
            "[CV] END .........................C=0.1, gamma=1, kernel=rbf; total time=  47.7s\n",
            "[CV] END ........................C=0.1, gamma=1, kernel=poly; total time=  13.4s\n",
            "[CV] END ........................C=0.1, gamma=1, kernel=poly; total time=  13.5s\n",
            "[CV] END ........................C=0.1, gamma=1, kernel=poly; total time=  13.3s\n",
            "[CV] END ........................C=0.1, gamma=1, kernel=poly; total time=  12.4s\n",
            "[CV] END ........................C=0.1, gamma=1, kernel=poly; total time=  12.8s\n",
            "[CV] END .....................C=0.1, gamma=1, kernel=sigmoid; total time=  40.1s\n",
            "[CV] END .....................C=0.1, gamma=1, kernel=sigmoid; total time=  40.4s\n",
            "[CV] END .....................C=0.1, gamma=1, kernel=sigmoid; total time=  40.0s\n",
            "[CV] END .....................C=0.1, gamma=1, kernel=sigmoid; total time=  40.2s\n",
            "[CV] END .....................C=0.1, gamma=1, kernel=sigmoid; total time=  40.5s\n",
            "[CV] END .......................C=0.1, gamma=0.1, kernel=rbf; total time=  47.8s\n",
            "[CV] END .......................C=0.1, gamma=0.1, kernel=rbf; total time=  45.6s\n",
            "[CV] END .......................C=0.1, gamma=0.1, kernel=rbf; total time=  46.1s\n",
            "[CV] END .......................C=0.1, gamma=0.1, kernel=rbf; total time=  44.4s\n",
            "[CV] END .......................C=0.1, gamma=0.1, kernel=rbf; total time=  45.4s\n",
            "[CV] END ......................C=0.1, gamma=0.1, kernel=poly; total time=  12.7s\n",
            "[CV] END ......................C=0.1, gamma=0.1, kernel=poly; total time=  13.0s\n",
            "[CV] END ......................C=0.1, gamma=0.1, kernel=poly; total time=  12.9s\n",
            "[CV] END ......................C=0.1, gamma=0.1, kernel=poly; total time=  12.5s\n",
            "[CV] END ......................C=0.1, gamma=0.1, kernel=poly; total time=  12.3s\n",
            "[CV] END ...................C=0.1, gamma=0.1, kernel=sigmoid; total time=  38.5s\n",
            "[CV] END ...................C=0.1, gamma=0.1, kernel=sigmoid; total time=  38.0s\n",
            "[CV] END ...................C=0.1, gamma=0.1, kernel=sigmoid; total time=  38.4s\n",
            "[CV] END ...................C=0.1, gamma=0.1, kernel=sigmoid; total time=  39.1s\n",
            "[CV] END ...................C=0.1, gamma=0.1, kernel=sigmoid; total time=  39.6s\n",
            "[CV] END ......................C=0.1, gamma=0.01, kernel=rbf; total time=  45.2s\n",
            "[CV] END ......................C=0.1, gamma=0.01, kernel=rbf; total time=  45.5s\n",
            "[CV] END ......................C=0.1, gamma=0.01, kernel=rbf; total time=  45.4s\n",
            "[CV] END ......................C=0.1, gamma=0.01, kernel=rbf; total time=  45.3s\n",
            "[CV] END ......................C=0.1, gamma=0.01, kernel=rbf; total time=  46.2s\n",
            "[CV] END .....................C=0.1, gamma=0.01, kernel=poly; total time=  12.8s\n",
            "[CV] END .....................C=0.1, gamma=0.01, kernel=poly; total time=  13.1s\n",
            "[CV] END .....................C=0.1, gamma=0.01, kernel=poly; total time=  13.4s\n",
            "[CV] END .....................C=0.1, gamma=0.01, kernel=poly; total time=  12.7s\n",
            "[CV] END .....................C=0.1, gamma=0.01, kernel=poly; total time=  13.0s\n",
            "[CV] END ..................C=0.1, gamma=0.01, kernel=sigmoid; total time=  39.9s\n",
            "[CV] END ..................C=0.1, gamma=0.01, kernel=sigmoid; total time=  40.0s\n",
            "[CV] END ..................C=0.1, gamma=0.01, kernel=sigmoid; total time=  39.6s\n",
            "[CV] END ..................C=0.1, gamma=0.01, kernel=sigmoid; total time=  40.4s\n",
            "[CV] END ..................C=0.1, gamma=0.01, kernel=sigmoid; total time=  38.8s\n",
            "[CV] END .....................C=0.1, gamma=0.001, kernel=rbf; total time=  45.9s\n",
            "[CV] END .....................C=0.1, gamma=0.001, kernel=rbf; total time=  45.2s\n",
            "[CV] END .....................C=0.1, gamma=0.001, kernel=rbf; total time=  46.2s\n",
            "[CV] END .....................C=0.1, gamma=0.001, kernel=rbf; total time=  45.0s\n",
            "[CV] END .....................C=0.1, gamma=0.001, kernel=rbf; total time=  44.7s\n",
            "[CV] END ....................C=0.1, gamma=0.001, kernel=poly; total time=  13.2s\n",
            "[CV] END ....................C=0.1, gamma=0.001, kernel=poly; total time=  13.1s\n",
            "[CV] END ....................C=0.1, gamma=0.001, kernel=poly; total time=  13.1s\n",
            "[CV] END ....................C=0.1, gamma=0.001, kernel=poly; total time=  13.0s\n",
            "[CV] END ....................C=0.1, gamma=0.001, kernel=poly; total time=  13.6s\n",
            "[CV] END .................C=0.1, gamma=0.001, kernel=sigmoid; total time=  42.1s\n",
            "[CV] END .................C=0.1, gamma=0.001, kernel=sigmoid; total time=  41.0s\n",
            "[CV] END .................C=0.1, gamma=0.001, kernel=sigmoid; total time=  41.1s\n",
            "[CV] END .................C=0.1, gamma=0.001, kernel=sigmoid; total time=  40.7s\n",
            "[CV] END .................C=0.1, gamma=0.001, kernel=sigmoid; total time=  46.1s\n",
            "[CV] END ...........................C=1, gamma=1, kernel=rbf; total time=  50.0s\n",
            "[CV] END ...........................C=1, gamma=1, kernel=rbf; total time=  49.4s\n",
            "[CV] END ...........................C=1, gamma=1, kernel=rbf; total time=  52.6s\n",
            "[CV] END ...........................C=1, gamma=1, kernel=rbf; total time=  50.2s\n",
            "[CV] END ...........................C=1, gamma=1, kernel=rbf; total time=  48.9s\n",
            "[CV] END ..........................C=1, gamma=1, kernel=poly; total time=  14.1s\n",
            "[CV] END ..........................C=1, gamma=1, kernel=poly; total time=  13.9s\n",
            "[CV] END ..........................C=1, gamma=1, kernel=poly; total time=  14.4s\n",
            "[CV] END ..........................C=1, gamma=1, kernel=poly; total time=  13.4s\n",
            "[CV] END ..........................C=1, gamma=1, kernel=poly; total time=  13.3s\n",
            "[CV] END .......................C=1, gamma=1, kernel=sigmoid; total time=  42.7s\n",
            "[CV] END .......................C=1, gamma=1, kernel=sigmoid; total time=  39.7s\n",
            "[CV] END .......................C=1, gamma=1, kernel=sigmoid; total time=  38.9s\n",
            "[CV] END .......................C=1, gamma=1, kernel=sigmoid; total time=  40.7s\n",
            "[CV] END .......................C=1, gamma=1, kernel=sigmoid; total time=  40.7s\n",
            "[CV] END .........................C=1, gamma=0.1, kernel=rbf; total time=  46.8s\n",
            "[CV] END .........................C=1, gamma=0.1, kernel=rbf; total time=  49.2s\n",
            "[CV] END .........................C=1, gamma=0.1, kernel=rbf; total time=  50.5s\n",
            "[CV] END .........................C=1, gamma=0.1, kernel=rbf; total time=  48.5s\n",
            "[CV] END .........................C=1, gamma=0.1, kernel=rbf; total time=  47.3s\n",
            "[CV] END ........................C=1, gamma=0.1, kernel=poly; total time=  12.9s\n",
            "[CV] END ........................C=1, gamma=0.1, kernel=poly; total time=  13.1s\n",
            "[CV] END ........................C=1, gamma=0.1, kernel=poly; total time=  12.9s\n",
            "[CV] END ........................C=1, gamma=0.1, kernel=poly; total time=  12.5s\n",
            "[CV] END ........................C=1, gamma=0.1, kernel=poly; total time=  12.4s\n",
            "[CV] END .....................C=1, gamma=0.1, kernel=sigmoid; total time=  39.0s\n",
            "[CV] END .....................C=1, gamma=0.1, kernel=sigmoid; total time=  38.4s\n",
            "[CV] END .....................C=1, gamma=0.1, kernel=sigmoid; total time=  41.8s\n",
            "[CV] END .....................C=1, gamma=0.1, kernel=sigmoid; total time=  40.3s\n",
            "[CV] END .....................C=1, gamma=0.1, kernel=sigmoid; total time=  39.9s\n",
            "[CV] END ........................C=1, gamma=0.01, kernel=rbf; total time=  46.6s\n",
            "[CV] END ........................C=1, gamma=0.01, kernel=rbf; total time=  45.7s\n",
            "[CV] END ........................C=1, gamma=0.01, kernel=rbf; total time=  45.5s\n",
            "[CV] END ........................C=1, gamma=0.01, kernel=rbf; total time=  44.6s\n",
            "[CV] END ........................C=1, gamma=0.01, kernel=rbf; total time=  45.4s\n",
            "[CV] END .......................C=1, gamma=0.01, kernel=poly; total time=  12.6s\n",
            "[CV] END .......................C=1, gamma=0.01, kernel=poly; total time=  12.7s\n",
            "[CV] END .......................C=1, gamma=0.01, kernel=poly; total time=  13.1s\n",
            "[CV] END .......................C=1, gamma=0.01, kernel=poly; total time=  12.7s\n",
            "[CV] END .......................C=1, gamma=0.01, kernel=poly; total time=  12.9s\n",
            "[CV] END ....................C=1, gamma=0.01, kernel=sigmoid; total time=  39.6s\n",
            "[CV] END ....................C=1, gamma=0.01, kernel=sigmoid; total time=  38.6s\n",
            "[CV] END ....................C=1, gamma=0.01, kernel=sigmoid; total time=  38.6s\n",
            "[CV] END ....................C=1, gamma=0.01, kernel=sigmoid; total time=  38.3s\n",
            "[CV] END ....................C=1, gamma=0.01, kernel=sigmoid; total time=  39.2s\n",
            "[CV] END .......................C=1, gamma=0.001, kernel=rbf; total time=  43.9s\n",
            "[CV] END .......................C=1, gamma=0.001, kernel=rbf; total time=  46.2s\n",
            "[CV] END .......................C=1, gamma=0.001, kernel=rbf; total time=  45.6s\n",
            "[CV] END .......................C=1, gamma=0.001, kernel=rbf; total time=  45.4s\n",
            "[CV] END .......................C=1, gamma=0.001, kernel=rbf; total time=  45.3s\n",
            "[CV] END ......................C=1, gamma=0.001, kernel=poly; total time=  12.7s\n",
            "[CV] END ......................C=1, gamma=0.001, kernel=poly; total time=  13.7s\n",
            "[CV] END ......................C=1, gamma=0.001, kernel=poly; total time=  13.0s\n",
            "[CV] END ......................C=1, gamma=0.001, kernel=poly; total time=  12.4s\n",
            "[CV] END ......................C=1, gamma=0.001, kernel=poly; total time=  13.1s\n",
            "[CV] END ...................C=1, gamma=0.001, kernel=sigmoid; total time=  38.1s\n",
            "[CV] END ...................C=1, gamma=0.001, kernel=sigmoid; total time=  38.8s\n",
            "[CV] END ...................C=1, gamma=0.001, kernel=sigmoid; total time=  37.9s\n",
            "[CV] END ...................C=1, gamma=0.001, kernel=sigmoid; total time=  37.6s\n",
            "[CV] END ...................C=1, gamma=0.001, kernel=sigmoid; total time=  37.5s\n",
            "[CV] END ..........................C=10, gamma=1, kernel=rbf; total time=  44.1s\n",
            "[CV] END ..........................C=10, gamma=1, kernel=rbf; total time=  44.4s\n",
            "[CV] END ..........................C=10, gamma=1, kernel=rbf; total time=  45.1s\n",
            "[CV] END ..........................C=10, gamma=1, kernel=rbf; total time=  44.3s\n",
            "[CV] END ..........................C=10, gamma=1, kernel=rbf; total time=  45.8s\n",
            "[CV] END .........................C=10, gamma=1, kernel=poly; total time=  13.1s\n",
            "[CV] END .........................C=10, gamma=1, kernel=poly; total time=  13.1s\n",
            "[CV] END .........................C=10, gamma=1, kernel=poly; total time=  13.7s\n",
            "[CV] END .........................C=10, gamma=1, kernel=poly; total time=  13.5s\n",
            "[CV] END .........................C=10, gamma=1, kernel=poly; total time=  13.3s\n",
            "[CV] END ......................C=10, gamma=1, kernel=sigmoid; total time=  40.3s\n",
            "[CV] END ......................C=10, gamma=1, kernel=sigmoid; total time=  40.3s\n",
            "[CV] END ......................C=10, gamma=1, kernel=sigmoid; total time=  40.9s\n",
            "[CV] END ......................C=10, gamma=1, kernel=sigmoid; total time=  40.8s\n",
            "[CV] END ......................C=10, gamma=1, kernel=sigmoid; total time=  41.3s\n",
            "[CV] END ........................C=10, gamma=0.1, kernel=rbf; total time=  48.4s\n",
            "[CV] END ........................C=10, gamma=0.1, kernel=rbf; total time=  47.2s\n",
            "[CV] END ........................C=10, gamma=0.1, kernel=rbf; total time=  47.9s\n",
            "[CV] END ........................C=10, gamma=0.1, kernel=rbf; total time=  48.1s\n",
            "[CV] END ........................C=10, gamma=0.1, kernel=rbf; total time=  45.2s\n",
            "[CV] END .......................C=10, gamma=0.1, kernel=poly; total time=  12.9s\n",
            "[CV] END .......................C=10, gamma=0.1, kernel=poly; total time=  12.5s\n",
            "[CV] END .......................C=10, gamma=0.1, kernel=poly; total time=  12.9s\n",
            "[CV] END .......................C=10, gamma=0.1, kernel=poly; total time=  12.7s\n",
            "[CV] END .......................C=10, gamma=0.1, kernel=poly; total time=  12.9s\n",
            "[CV] END ....................C=10, gamma=0.1, kernel=sigmoid; total time=  40.8s\n",
            "[CV] END ....................C=10, gamma=0.1, kernel=sigmoid; total time=  39.3s\n",
            "[CV] END ....................C=10, gamma=0.1, kernel=sigmoid; total time=  39.4s\n",
            "[CV] END ....................C=10, gamma=0.1, kernel=sigmoid; total time=  38.8s\n",
            "[CV] END ....................C=10, gamma=0.1, kernel=sigmoid; total time=  38.4s\n",
            "[CV] END .......................C=10, gamma=0.01, kernel=rbf; total time=  45.2s\n",
            "[CV] END .......................C=10, gamma=0.01, kernel=rbf; total time=  45.9s\n",
            "[CV] END .......................C=10, gamma=0.01, kernel=rbf; total time=  45.5s\n",
            "[CV] END .......................C=10, gamma=0.01, kernel=rbf; total time=  46.2s\n",
            "[CV] END .......................C=10, gamma=0.01, kernel=rbf; total time=  45.7s\n",
            "[CV] END ......................C=10, gamma=0.01, kernel=poly; total time=  12.9s\n",
            "[CV] END ......................C=10, gamma=0.01, kernel=poly; total time=  13.1s\n",
            "[CV] END ......................C=10, gamma=0.01, kernel=poly; total time=  13.3s\n",
            "[CV] END ......................C=10, gamma=0.01, kernel=poly; total time=  12.5s\n",
            "[CV] END ......................C=10, gamma=0.01, kernel=poly; total time=  12.1s\n",
            "[CV] END ...................C=10, gamma=0.01, kernel=sigmoid; total time=  38.2s\n",
            "[CV] END ...................C=10, gamma=0.01, kernel=sigmoid; total time=  39.4s\n",
            "[CV] END ...................C=10, gamma=0.01, kernel=sigmoid; total time=  37.3s\n",
            "[CV] END ...................C=10, gamma=0.01, kernel=sigmoid; total time=  39.1s\n",
            "[CV] END ...................C=10, gamma=0.01, kernel=sigmoid; total time=  38.4s\n",
            "[CV] END ......................C=10, gamma=0.001, kernel=rbf; total time=  46.1s\n",
            "[CV] END ......................C=10, gamma=0.001, kernel=rbf; total time=  44.7s\n",
            "[CV] END ......................C=10, gamma=0.001, kernel=rbf; total time=  45.9s\n",
            "[CV] END ......................C=10, gamma=0.001, kernel=rbf; total time=  46.3s\n",
            "[CV] END ......................C=10, gamma=0.001, kernel=rbf; total time=  47.4s\n",
            "[CV] END .....................C=10, gamma=0.001, kernel=poly; total time=  13.4s\n",
            "[CV] END .....................C=10, gamma=0.001, kernel=poly; total time=  13.6s\n",
            "[CV] END .....................C=10, gamma=0.001, kernel=poly; total time=  13.0s\n",
            "[CV] END .....................C=10, gamma=0.001, kernel=poly; total time=  13.0s\n",
            "[CV] END .....................C=10, gamma=0.001, kernel=poly; total time=  13.2s\n",
            "[CV] END ..................C=10, gamma=0.001, kernel=sigmoid; total time=  39.5s\n",
            "[CV] END ..................C=10, gamma=0.001, kernel=sigmoid; total time=  38.7s\n",
            "[CV] END ..................C=10, gamma=0.001, kernel=sigmoid; total time=  38.4s\n",
            "[CV] END ..................C=10, gamma=0.001, kernel=sigmoid; total time=  36.1s\n",
            "[CV] END ..................C=10, gamma=0.001, kernel=sigmoid; total time=  37.3s\n",
            "[CV] END .........................C=100, gamma=1, kernel=rbf; total time=  43.5s\n",
            "[CV] END .........................C=100, gamma=1, kernel=rbf; total time=  45.4s\n",
            "[CV] END .........................C=100, gamma=1, kernel=rbf; total time=  44.0s\n",
            "[CV] END .........................C=100, gamma=1, kernel=rbf; total time=  43.2s\n",
            "[CV] END .........................C=100, gamma=1, kernel=rbf; total time=  44.4s\n",
            "[CV] END ........................C=100, gamma=1, kernel=poly; total time=  12.6s\n",
            "[CV] END ........................C=100, gamma=1, kernel=poly; total time=  12.9s\n",
            "[CV] END ........................C=100, gamma=1, kernel=poly; total time=  13.1s\n",
            "[CV] END ........................C=100, gamma=1, kernel=poly; total time=  13.2s\n",
            "[CV] END ........................C=100, gamma=1, kernel=poly; total time=  13.4s\n",
            "[CV] END .....................C=100, gamma=1, kernel=sigmoid; total time=  37.6s\n",
            "[CV] END .....................C=100, gamma=1, kernel=sigmoid; total time=  39.1s\n",
            "[CV] END .....................C=100, gamma=1, kernel=sigmoid; total time=  39.5s\n",
            "[CV] END .....................C=100, gamma=1, kernel=sigmoid; total time=  37.6s\n",
            "[CV] END .....................C=100, gamma=1, kernel=sigmoid; total time=  39.4s\n",
            "[CV] END .......................C=100, gamma=0.1, kernel=rbf; total time=  46.0s\n",
            "[CV] END .......................C=100, gamma=0.1, kernel=rbf; total time=  45.1s\n",
            "[CV] END .......................C=100, gamma=0.1, kernel=rbf; total time=  50.3s\n",
            "[CV] END .......................C=100, gamma=0.1, kernel=rbf; total time=  47.5s\n",
            "[CV] END .......................C=100, gamma=0.1, kernel=rbf; total time=  47.3s\n",
            "[CV] END ......................C=100, gamma=0.1, kernel=poly; total time=  13.3s\n",
            "[CV] END ......................C=100, gamma=0.1, kernel=poly; total time=  13.6s\n",
            "[CV] END ......................C=100, gamma=0.1, kernel=poly; total time=  13.1s\n",
            "[CV] END ......................C=100, gamma=0.1, kernel=poly; total time=  14.2s\n",
            "[CV] END ......................C=100, gamma=0.1, kernel=poly; total time=  13.6s\n",
            "[CV] END ...................C=100, gamma=0.1, kernel=sigmoid; total time=  42.1s\n",
            "[CV] END ...................C=100, gamma=0.1, kernel=sigmoid; total time=  37.5s\n",
            "[CV] END ...................C=100, gamma=0.1, kernel=sigmoid; total time=  40.9s\n",
            "[CV] END ...................C=100, gamma=0.1, kernel=sigmoid; total time=  39.9s\n",
            "[CV] END ...................C=100, gamma=0.1, kernel=sigmoid; total time=  39.3s\n",
            "[CV] END ......................C=100, gamma=0.01, kernel=rbf; total time=  45.7s\n",
            "[CV] END ......................C=100, gamma=0.01, kernel=rbf; total time=  45.7s\n",
            "[CV] END ......................C=100, gamma=0.01, kernel=rbf; total time=  46.3s\n",
            "[CV] END ......................C=100, gamma=0.01, kernel=rbf; total time=  44.3s\n",
            "[CV] END ......................C=100, gamma=0.01, kernel=rbf; total time=  45.1s\n",
            "[CV] END .....................C=100, gamma=0.01, kernel=poly; total time=  12.5s\n",
            "[CV] END .....................C=100, gamma=0.01, kernel=poly; total time=  12.4s\n",
            "[CV] END .....................C=100, gamma=0.01, kernel=poly; total time=  12.5s\n",
            "[CV] END .....................C=100, gamma=0.01, kernel=poly; total time=  12.3s\n",
            "[CV] END .....................C=100, gamma=0.01, kernel=poly; total time=  12.6s\n",
            "[CV] END ..................C=100, gamma=0.01, kernel=sigmoid; total time=  38.2s\n",
            "[CV] END ..................C=100, gamma=0.01, kernel=sigmoid; total time=  36.8s\n",
            "[CV] END ..................C=100, gamma=0.01, kernel=sigmoid; total time=  38.8s\n",
            "[CV] END ..................C=100, gamma=0.01, kernel=sigmoid; total time=  37.9s\n",
            "[CV] END ..................C=100, gamma=0.01, kernel=sigmoid; total time=  38.1s\n",
            "[CV] END .....................C=100, gamma=0.001, kernel=rbf; total time=  45.2s\n",
            "[CV] END .....................C=100, gamma=0.001, kernel=rbf; total time=  45.3s\n",
            "[CV] END .....................C=100, gamma=0.001, kernel=rbf; total time=  45.2s\n",
            "[CV] END .....................C=100, gamma=0.001, kernel=rbf; total time=  45.4s\n",
            "[CV] END .....................C=100, gamma=0.001, kernel=rbf; total time=  45.2s\n",
            "[CV] END ....................C=100, gamma=0.001, kernel=poly; total time=  12.8s\n",
            "[CV] END ....................C=100, gamma=0.001, kernel=poly; total time=  13.4s\n",
            "[CV] END ....................C=100, gamma=0.001, kernel=poly; total time=  13.2s\n",
            "[CV] END ....................C=100, gamma=0.001, kernel=poly; total time=  13.2s\n",
            "[CV] END ....................C=100, gamma=0.001, kernel=poly; total time=  12.7s\n",
            "[CV] END .................C=100, gamma=0.001, kernel=sigmoid; total time=  38.3s\n",
            "[CV] END .................C=100, gamma=0.001, kernel=sigmoid; total time=  37.6s\n",
            "[CV] END .................C=100, gamma=0.001, kernel=sigmoid; total time=  39.1s\n",
            "[CV] END .................C=100, gamma=0.001, kernel=sigmoid; total time=  38.7s\n",
            "[CV] END .................C=100, gamma=0.001, kernel=sigmoid; total time=  38.3s\n"
          ]
        },
        {
          "output_type": "execute_result",
          "data": {
            "text/plain": [
              "GridSearchCV(estimator=SVC(),\n",
              "             param_grid={'C': [0.1, 1, 10, 100], 'gamma': [1, 0.1, 0.01, 0.001],\n",
              "                         'kernel': ['rbf', 'poly', 'sigmoid']},\n",
              "             verbose=2)"
            ]
          },
          "metadata": {},
          "execution_count": 10
        }
      ]
    },
    {
      "cell_type": "code",
      "source": [
        "print(grid.best_estimator_)\n"
      ],
      "metadata": {
        "colab": {
          "base_uri": "https://localhost:8080/"
        },
        "id": "jmwHnDr3-7FJ",
        "outputId": "e6377f01-2f89-497f-d32a-dcb720e4ae18"
      },
      "execution_count": null,
      "outputs": [
        {
          "output_type": "stream",
          "name": "stdout",
          "text": [
            "SVC(C=0.1, gamma=1, kernel='poly')\n"
          ]
        }
      ]
    },
    {
      "cell_type": "code",
      "source": [
        "grid_predictions = grid.predict(X_test)\n",
        "print(confusion_matrix(y_test,grid_predictions))\n",
        "print(classification_report(y_test,grid_predictions))"
      ],
      "metadata": {
        "colab": {
          "base_uri": "https://localhost:8080/"
        },
        "id": "tYgQmVZo_CoR",
        "outputId": "c1bfbd7a-b634-4a45-a890-6287358e190f"
      },
      "execution_count": null,
      "outputs": [
        {
          "output_type": "stream",
          "name": "stdout",
          "text": [
            "[[ 73   0   0   0   0   0   0   0   0   0   0   0   0   0   0   0]\n",
            " [  0  71   0   0   0   0   0   0   0   0   0   0   0   0   0   0]\n",
            " [  0   0  73   0   0   0   0   0   0   0   0   0   0   0   0   0]\n",
            " [  0   0   0  74   0   0   0   0   0   0   0   0   0   0   0   0]\n",
            " [  0   0   1   0  76   0   0   0   0   0   0   0   0   2   1   0]\n",
            " [  0   0   0   0   0  54   0   0   0   0   0   8   0   0   0   0]\n",
            " [  0   0   0   0   0   0  90   0   0   0   0   0   0   0   0   0]\n",
            " [  0   0   0   2   0   0   0  92   0   0   0   0   0   0   0   0]\n",
            " [  0   0   0   0   0   4   0   0  91   0   0   0   0   0   0   0]\n",
            " [  0   0   0   0   0   0   0   0   0  78   0   0   0   0   1   0]\n",
            " [  0   0   0   0   0   0   0   0   0   0  85   0   0   0   0   0]\n",
            " [  0   0   0   0   0  18   0   0   0   0   0  53   0   0   1   0]\n",
            " [  0   0   0   0   0   0   0   0   0   0   0   0  83   0   3   0]\n",
            " [  0   0   0   0   0   0   0   0   0   1   0   0   0  61  12   1]\n",
            " [  0   0   0   0   0   0   0   0   0   3   0   0   0   1  58   0]\n",
            " [  0   0   0   0   0   0   0   0   0   0   0   0   0   0   0 105]]\n",
            "              precision    recall  f1-score   support\n",
            "\n",
            "           0       1.00      1.00      1.00        73\n",
            "           1       1.00      1.00      1.00        71\n",
            "           2       0.99      1.00      0.99        73\n",
            "           3       0.97      1.00      0.99        74\n",
            "           4       1.00      0.95      0.97        80\n",
            "           5       0.71      0.87      0.78        62\n",
            "           6       1.00      1.00      1.00        90\n",
            "           7       1.00      0.98      0.99        94\n",
            "           8       1.00      0.96      0.98        95\n",
            "           9       0.95      0.99      0.97        79\n",
            "          10       1.00      1.00      1.00        85\n",
            "          11       0.87      0.74      0.80        72\n",
            "          12       1.00      0.97      0.98        86\n",
            "          13       0.95      0.81      0.88        75\n",
            "          14       0.76      0.94      0.84        62\n",
            "          15       0.99      1.00      1.00       105\n",
            "\n",
            "    accuracy                           0.95      1276\n",
            "   macro avg       0.95      0.95      0.95      1276\n",
            "weighted avg       0.96      0.95      0.95      1276\n",
            "\n"
          ]
        }
      ]
    },
    {
      "cell_type": "code",
      "source": [
        "import seaborn as sn\n",
        "from sklearn.metrics import confusion_matrix\n",
        "cm = confusion_matrix(y_test , y_pred);\n",
        "plt.figure(figsize = (10,7))\n",
        "sn.heatmap(cm, annot=True)\n",
        "plt.xlabel('Predicted')\n",
        "plt.ylabel('Truth')"
      ],
      "metadata": {
        "colab": {
          "base_uri": "https://localhost:8080/",
          "height": 459
        },
        "id": "6a40iqXlEvoB",
        "outputId": "b6e4d03c-0de9-4f16-d251-0b7d4fa70769"
      },
      "execution_count": null,
      "outputs": [
        {
          "output_type": "execute_result",
          "data": {
            "text/plain": [
              "Text(69.0, 0.5, 'Truth')"
            ]
          },
          "metadata": {},
          "execution_count": 13
        },
        {
          "output_type": "display_data",
          "data": {
            "text/plain": [
              "<Figure size 720x504 with 2 Axes>"
            ],
            "image/png": "[encoded data removed]"
          },
          "metadata": {
            "needs_background": "light"
          }
        }
      ]
    }
  ]
}